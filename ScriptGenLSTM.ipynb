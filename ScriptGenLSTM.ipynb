{
 "cells": [
  {
   "cell_type": "code",
   "execution_count": 1,
   "metadata": {
    "scrolled": false
   },
   "outputs": [
    {
     "name": "stderr",
     "output_type": "stream",
     "text": [
      "Using TensorFlow backend.\n"
     ]
    },
    {
     "name": "stdout",
     "output_type": "stream",
     "text": [
      "Total Patterns:  196380\n",
      "Epoch 1/14\n",
      "196380/196380 [==============================] - 245s - loss: 2.7927   \n",
      "Epoch 2/14\n",
      "196380/196380 [==============================] - 244s - loss: 2.4796   \n",
      "Epoch 3/14\n",
      "196380/196380 [==============================] - 244s - loss: 2.3057   \n",
      "Epoch 4/14\n",
      "196380/196380 [==============================] - 241s - loss: 2.2323   \n",
      "Epoch 5/14\n",
      "196380/196380 [==============================] - 238s - loss: 2.1765   \n",
      "Epoch 6/14\n",
      "196380/196380 [==============================] - 237s - loss: 2.1152   \n",
      "Epoch 7/14\n",
      "196380/196380 [==============================] - 239s - loss: 2.0703   \n",
      "Epoch 8/14\n",
      "196380/196380 [==============================] - 238s - loss: 2.0221   \n",
      "Epoch 9/14\n",
      "196380/196380 [==============================] - 239s - loss: 1.9791   \n",
      "Epoch 10/14\n",
      "196380/196380 [==============================] - 240s - loss: 1.9369   \n",
      "Epoch 11/14\n",
      "196380/196380 [==============================] - 240s - loss: 1.9038   \n",
      "Epoch 12/14\n",
      "196380/196380 [==============================] - 239s - loss: 1.8705   \n",
      "Epoch 13/14\n",
      "196380/196380 [==============================] - 238s - loss: 1.8361   \n",
      "Epoch 14/14\n",
      "196380/196380 [==============================] - 239s - loss: 1.8654   \n"
     ]
    },
    {
     "data": {
      "text/plain": [
       "<keras.callbacks.History at 0x7f7273571b38>"
      ]
     },
     "execution_count": 1,
     "metadata": {},
     "output_type": "execute_result"
    }
   ],
   "source": [
    "import numpy as np\n",
    "import pandas as pd\n",
    "from keras.models import Sequential\n",
    "from keras.layers import Dense\n",
    "from keras.layers import Dropout\n",
    "from keras.layers import LSTM\n",
    "\n",
    "from keras.utils import np_utils\n",
    "\n",
    "\n",
    "\n",
    "\n",
    "text=open('avengers.txt','r').read()\n",
    "chars=list(set(text))\n",
    "corpus=list(text)\n",
    "xtraining=corpus[0:196478]\n",
    "\n",
    "ytraining=corpus[1:196480]\n",
    "c_to_i={c:i for i,c in enumerate(chars)}\n",
    "\n",
    "i_to_c={i:c for i,c in enumerate(chars)}\n",
    "\n",
    "\n",
    "\n",
    "\n",
    "seq_length = 100\n",
    "x = []\n",
    "y = []\n",
    "for i in range(0, len(corpus)- seq_length, 1):\n",
    "\tseq_in = text[i:i + seq_length]\n",
    "\tseq_out = text[i + seq_length]\n",
    "\tx.append([c_to_i[char] for char in seq_in])\n",
    "\ty.append(c_to_i[seq_out])\n",
    "n_patterns = len(x)\n",
    "print (\"Total Patterns: \", n_patterns)\n",
    "# reshape X to be [samples, time steps, features]\n",
    "X = np.reshape(x, (n_patterns, seq_length, 1))\n",
    "# normalize\n",
    "X = X / float(len(chars))\n",
    "# one hot encode the output variable\n",
    "y = np_utils.to_categorical(y)\n",
    "# define the LSTM model\n",
    "model = Sequential()\n",
    "model.add(LSTM(256, input_shape=(X.shape[1], X.shape[2])))\n",
    "model.add(Dropout(0.2))\n",
    "model.add(Dense(y.shape[1], activation='softmax'))\n",
    "model.compile(loss='categorical_crossentropy', optimizer='adam')\n",
    "\n",
    "model.fit(X, y, epochs=14, batch_size=128)\n",
    "\n"
   ]
  },
  {
   "cell_type": "code",
   "execution_count": 2,
   "metadata": {},
   "outputs": [
    {
     "name": "stdout",
     "output_type": "stream",
     "text": [
      "\"        NICK FURY\n",
      "           You ever been in a war, Councilman? In\n",
      "           a firefight? Did you f \"\n",
      "ate the eooee\n",
      "           ahe eooee  oo                     TONY\n",
      "           Wou eeane  oo                      TONY\n",
      "           Ihe you the soult  eothe eooee  oo        o              TONY\n",
      "           Wou eeaee  oe  oo                      TONY\n",
      "           Ihe you the soult  eothe eooee  oo        o              TONY\n",
      "           Wou eeaee  oe  oo                      TONY\n",
      "           Ihe you the soult  eothe eooee  oo        o              TONY\n",
      "           Wou eeaee  oe  oo                      TONY\n",
      "           Ihe you the soult  eothe eooee  oo        o              TONY\n",
      "           Wou eeaee  oe  oo                      TONY\n",
      "           Ihe you the soult  eothe eooee  oo        o              TONY\n",
      "           Wou eeaee  oe  oo                      TONY\n",
      "           Ihe you the soult  eothe eooee  oo        o              TONY\n",
      "           Wou eeaee  oe  oo                      TONY\n",
      "           Ihe you the soult  eothe eooee  oo        o              TONY\n",
      "           Wou eeaee  oe  oo                \n",
      "Done.\n"
     ]
    }
   ],
   "source": [
    "import sys\n",
    "start = np.random.randint(0, len(x)-1)\n",
    "pattern = x[start]\n",
    "\n",
    "print (\"\\\"\", ''.join([i_to_c[value] for value in pattern]), \"\\\"\")\n",
    "# generate characters\n",
    "for i in range(1000):\n",
    "\tx = np.reshape(pattern, (1, len(pattern), 1))\n",
    "\tx = x / float(len(chars))\n",
    "\tprediction = model.predict(x, verbose=0)\n",
    "\tindex = np.argmax(prediction)\n",
    "\tresult = i_to_c[index]\n",
    "\tseq_in = [i_to_c[value] for value in pattern]\n",
    "\tsys.stdout.write(result)\n",
    "\tpattern.append(index)\n",
    "\tpattern = pattern[1:len(pattern)]\n",
    "print (\"\\nDone.\")"
   ]
  },
  {
   "cell_type": "code",
   "execution_count": null,
   "metadata": {
    "collapsed": true
   },
   "outputs": [],
   "source": []
  }
 ],
 "metadata": {
  "kernelspec": {
   "display_name": "Python 3",
   "language": "python",
   "name": "python3"
  },
  "language_info": {
   "codemirror_mode": {
    "name": "ipython",
    "version": 3
   },
   "file_extension": ".py",
   "mimetype": "text/x-python",
   "name": "python",
   "nbconvert_exporter": "python",
   "pygments_lexer": "ipython3",
   "version": "3.6.2"
  }
 },
 "nbformat": 4,
 "nbformat_minor": 2
}
